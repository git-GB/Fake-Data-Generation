{
 "cells": [
  {
   "cell_type": "code",
   "execution_count": 1,
   "metadata": {},
   "outputs": [],
   "source": [
    "import pandas as pd\n",
    "import numpy as np\n",
    "import random\n",
    "from faker import Faker\n",
    "import uuid"
   ]
  },
  {
   "cell_type": "code",
   "execution_count": 2,
   "metadata": {},
   "outputs": [],
   "source": [
    "# Setting number of rows\n",
    "respondents = 3000\n",
    "\n",
    "#defining the columns\n",
    "data = pd.DataFrame(columns = [\"id\",\n",
    "                                \"name\",\n",
    "                                \"age\",\n",
    "                                \"marriage_status\",\n",
    "                                \"gender\",\n",
    "                                \"weight\",\n",
    "                                \"height\",\n",
    "                                \"hours_of_exercise\",\n",
    "                                \"avg_daily_calories\",\n",
    "                                \"diet_type\",\n",
    "                                \"if_smokes\",\n",
    "                                \"if_drinks\",\n",
    "                                \"if_drugs\",\n",
    "                                \"city\",\n",
    "                                \"city_temperature\",\n",
    "                                \"diseases_or_conditions\",\n",
    "                                \"income\",\n",
    "                                \"education_level\"])\n",
    "\n",
    "#Initializing faker\n",
    "faker = Faker()"
   ]
  },
  {
   "cell_type": "code",
   "execution_count": 3,
   "metadata": {},
   "outputs": [
    {
     "data": {
      "text/plain": [
       "1000"
      ]
     },
     "execution_count": 3,
     "metadata": {},
     "output_type": "execute_result"
    }
   ],
   "source": [
    "#creating unique id\n",
    "data['id'] = [uuid.uuid4().hex for i in range(respondents)]\n",
    "\n",
    "data.id.nunique()==respondents#Checking if the id is unique"
   ]
  },
  {
   "cell_type": "code",
   "execution_count": 9,
   "metadata": {},
   "outputs": [],
   "source": [
    "#creating a function for generating names\n",
    "def name_gen(genders):\n",
    "    \"\"\"Generates name based on gender\"\"\"\n",
    "    if genders == 'male':\n",
    "        return faker.name_male()\n",
    "    elif genders == 'female':\n",
    "        return faker.name_female()\n",
    "    \n",
    "    return faker.name()\n",
    "\n",
    "#running the name generator on the column\n",
    "data['name'] = [name_gen(i) for i in data['gender']]"
   ]
  },
  {
   "cell_type": "code",
   "execution_count": 4,
   "metadata": {},
   "outputs": [
    {
     "data": {
      "text/plain": [
       "0      sugar_intolerance\n",
       "1                   none\n",
       "2          heart_disease\n",
       "3          heart_disease\n",
       "4                   none\n",
       "             ...        \n",
       "995    sugar_intolerance\n",
       "996        heart_disease\n",
       "997             diabetes\n",
       "998                other\n",
       "999        heart_disease\n",
       "Name: diseases_or_conditions, Length: 1000, dtype: object"
      ]
     },
     "execution_count": 4,
     "metadata": {},
     "output_type": "execute_result"
    }
   ],
   "source": [
    "#randomizing genders \n",
    "genders = [\"male\",\"female\",\" \"]\n",
    "data[\"gender\"] = random.choices(genders, weights=(43,43,10),k = respondents)\n",
    "\n",
    "#Categories gen function\n",
    "def cat_gen(col_name, choices):\n",
    "    \"\"\"Generates categorical data\n",
    "    args - col_name, choices\n",
    "    col_name: \"column name\"\n",
    "    choices: [list of choices] \"\"\"\n",
    "    data[col_name] = random.choices(choices, k = respondents)\n",
    "    return data[col_name]\n",
    "\n",
    "#generating data for all categorical columns\n",
    "cat_gen(\"marriage_status\", [\"single\",\"married\",\"divorced\",\"widowed\"])\n",
    "cat_gen(\"diet_type\", [\"vegetarian\",\"carb_rich\",\"protein_based\",\"other\"])\n",
    "cat_gen(\"if_smokes\", [\"yes\",\"no\"])\n",
    "cat_gen(\"if_drinks\", [\"yes\",\"no\"])\n",
    "cat_gen(\"if_drugs\", [\"yes\",\"no\"])\n",
    "cat_gen(\"education_level\", [\"high_school\",\"college\",\"university\",\"other\"])\n",
    "cat_gen(\"city\",[\"New York\",\"Tokyo\", \"Shanghai\", \"Delhi\", \"London\", \"Dubai\", \"Paris\"])\n",
    "cat_gen(\"diseases_or_conditions\", [\"diabetes\",\"heart_disease\",\"none\",\"sugar_intolerance\",\"other\"])\n"
   ]
  },
  {
   "cell_type": "code",
   "execution_count": 5,
   "metadata": {},
   "outputs": [],
   "source": [
    "# Generating Numerical Data - age\n",
    "age = []\n",
    "for  i in range(respondents):\n",
    "        age.append(random.randint(15,60))\n",
    "\n",
    "data['age'] = age\n",
    "\n",
    "# Creating a function to automate the generation of  numerical data\n",
    "def numerical_gen(col_name,min,max):\n",
    "        \"\"\"Generates numerical data\n",
    "        args- column, min, max\n",
    "        col_name : \"column name\"\n",
    "        min: minimum value\n",
    "        max: maximum value\"\"\"\n",
    "        data[col_name] = [random.randint(min,max) for i in range(respondents)]\n",
    "\n",
    "#generating numerical data for all numerical columns\n",
    "numerical_gen(\"weight\",50,200)\n",
    "numerical_gen(\"height\",120,220)\n",
    "numerical_gen(\"weight\",45,130)\n",
    "numerical_gen(\"hours_of_exercise\",0,24)\n",
    "numerical_gen(\"avg_daily_calories\",0,4000)\n",
    "numerical_gen(\"city_temperature\",0,100)\n",
    "numerical_gen(\"income\",0,1000000)\n",
    "numerical_gen(\"city_temperature\",0,100)"
   ]
  },
  {
   "cell_type": "code",
   "execution_count": 11,
   "metadata": {},
   "outputs": [
    {
     "data": {
      "text/html": [
       "<div>\n",
       "<style scoped>\n",
       "    .dataframe tbody tr th:only-of-type {\n",
       "        vertical-align: middle;\n",
       "    }\n",
       "\n",
       "    .dataframe tbody tr th {\n",
       "        vertical-align: top;\n",
       "    }\n",
       "\n",
       "    .dataframe thead th {\n",
       "        text-align: right;\n",
       "    }\n",
       "</style>\n",
       "<table border=\"1\" class=\"dataframe\">\n",
       "  <thead>\n",
       "    <tr style=\"text-align: right;\">\n",
       "      <th></th>\n",
       "      <th>age</th>\n",
       "      <th>weight</th>\n",
       "      <th>height</th>\n",
       "      <th>hours_of_exercise</th>\n",
       "      <th>avg_daily_calories</th>\n",
       "      <th>city_temperature</th>\n",
       "      <th>income</th>\n",
       "    </tr>\n",
       "  </thead>\n",
       "  <tbody>\n",
       "    <tr>\n",
       "      <th>count</th>\n",
       "      <td>1000.000000</td>\n",
       "      <td>1000.000000</td>\n",
       "      <td>1000.000000</td>\n",
       "      <td>1000.000000</td>\n",
       "      <td>1000.000000</td>\n",
       "      <td>1000.000000</td>\n",
       "      <td>1000.000000</td>\n",
       "    </tr>\n",
       "    <tr>\n",
       "      <th>mean</th>\n",
       "      <td>37.653000</td>\n",
       "      <td>87.374000</td>\n",
       "      <td>170.428000</td>\n",
       "      <td>12.138000</td>\n",
       "      <td>1998.220000</td>\n",
       "      <td>49.890000</td>\n",
       "      <td>507302.043000</td>\n",
       "    </tr>\n",
       "    <tr>\n",
       "      <th>std</th>\n",
       "      <td>13.144481</td>\n",
       "      <td>25.335944</td>\n",
       "      <td>29.840732</td>\n",
       "      <td>7.251451</td>\n",
       "      <td>1170.272762</td>\n",
       "      <td>29.490772</td>\n",
       "      <td>289065.959564</td>\n",
       "    </tr>\n",
       "    <tr>\n",
       "      <th>min</th>\n",
       "      <td>15.000000</td>\n",
       "      <td>45.000000</td>\n",
       "      <td>120.000000</td>\n",
       "      <td>0.000000</td>\n",
       "      <td>3.000000</td>\n",
       "      <td>0.000000</td>\n",
       "      <td>258.000000</td>\n",
       "    </tr>\n",
       "    <tr>\n",
       "      <th>25%</th>\n",
       "      <td>26.750000</td>\n",
       "      <td>66.000000</td>\n",
       "      <td>144.000000</td>\n",
       "      <td>6.000000</td>\n",
       "      <td>988.250000</td>\n",
       "      <td>24.000000</td>\n",
       "      <td>249177.250000</td>\n",
       "    </tr>\n",
       "    <tr>\n",
       "      <th>50%</th>\n",
       "      <td>37.500000</td>\n",
       "      <td>87.000000</td>\n",
       "      <td>170.000000</td>\n",
       "      <td>13.000000</td>\n",
       "      <td>2003.500000</td>\n",
       "      <td>50.000000</td>\n",
       "      <td>507877.500000</td>\n",
       "    </tr>\n",
       "    <tr>\n",
       "      <th>75%</th>\n",
       "      <td>49.000000</td>\n",
       "      <td>109.250000</td>\n",
       "      <td>197.000000</td>\n",
       "      <td>19.000000</td>\n",
       "      <td>3026.250000</td>\n",
       "      <td>75.000000</td>\n",
       "      <td>755421.500000</td>\n",
       "    </tr>\n",
       "    <tr>\n",
       "      <th>max</th>\n",
       "      <td>60.000000</td>\n",
       "      <td>130.000000</td>\n",
       "      <td>220.000000</td>\n",
       "      <td>24.000000</td>\n",
       "      <td>3997.000000</td>\n",
       "      <td>100.000000</td>\n",
       "      <td>999007.000000</td>\n",
       "    </tr>\n",
       "  </tbody>\n",
       "</table>\n",
       "</div>"
      ],
      "text/plain": [
       "               age       weight       height  hours_of_exercise  \\\n",
       "count  1000.000000  1000.000000  1000.000000        1000.000000   \n",
       "mean     37.653000    87.374000   170.428000          12.138000   \n",
       "std      13.144481    25.335944    29.840732           7.251451   \n",
       "min      15.000000    45.000000   120.000000           0.000000   \n",
       "25%      26.750000    66.000000   144.000000           6.000000   \n",
       "50%      37.500000    87.000000   170.000000          13.000000   \n",
       "75%      49.000000   109.250000   197.000000          19.000000   \n",
       "max      60.000000   130.000000   220.000000          24.000000   \n",
       "\n",
       "       avg_daily_calories  city_temperature         income  \n",
       "count         1000.000000       1000.000000    1000.000000  \n",
       "mean          1998.220000         49.890000  507302.043000  \n",
       "std           1170.272762         29.490772  289065.959564  \n",
       "min              3.000000          0.000000     258.000000  \n",
       "25%            988.250000         24.000000  249177.250000  \n",
       "50%           2003.500000         50.000000  507877.500000  \n",
       "75%           3026.250000         75.000000  755421.500000  \n",
       "max           3997.000000        100.000000  999007.000000  "
      ]
     },
     "execution_count": 11,
     "metadata": {},
     "output_type": "execute_result"
    }
   ],
   "source": [
    "data.describe()"
   ]
  },
  {
   "cell_type": "code",
   "execution_count": 14,
   "metadata": {},
   "outputs": [],
   "source": [
    "data.to_csv(\"./fake_data_export.csv\", index = False)"
   ]
  },
  {
   "cell_type": "code",
   "execution_count": 16,
   "metadata": {},
   "outputs": [
    {
     "data": {
      "text/plain": [
       "(1000, 18)"
      ]
     },
     "execution_count": 16,
     "metadata": {},
     "output_type": "execute_result"
    }
   ],
   "source": [
    "data.shape"
   ]
  },
  {
   "cell_type": "code",
   "execution_count": null,
   "metadata": {},
   "outputs": [],
   "source": []
  }
 ],
 "metadata": {
  "kernelspec": {
   "display_name": "Python 3.9.12 ('base')",
   "language": "python",
   "name": "python3"
  },
  "language_info": {
   "codemirror_mode": {
    "name": "ipython",
    "version": 3
   },
   "file_extension": ".py",
   "mimetype": "text/x-python",
   "name": "python",
   "nbconvert_exporter": "python",
   "pygments_lexer": "ipython3",
   "version": "3.9.12"
  },
  "orig_nbformat": 4,
  "vscode": {
   "interpreter": {
    "hash": "73b821250e16fc16900c2a3e52b4ecb495c96a009b33fe27669e30a795cf2d76"
   }
  }
 },
 "nbformat": 4,
 "nbformat_minor": 2
}
